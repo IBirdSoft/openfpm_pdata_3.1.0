{
 "cells": [
  {
   "cell_type": "code",
   "execution_count": 1,
   "metadata": {},
   "outputs": [],
   "source": [
    "from tifffile import imread, imsave\n",
    "import numpy as np\n",
    "import os\n",
    "import matplotlib.pyplot as plt\n",
    "import cv2\n",
    "import sys\n",
    "sys.path.append(\"./lib\")\n",
    "import morphological_operations as mo\n",
    "import image_process_and_save as ips"
   ]
  },
  {
   "cell_type": "markdown",
   "metadata": {},
   "source": [
    "# Open and plot image"
   ]
  },
  {
   "cell_type": "code",
   "execution_count": 2,
   "metadata": {},
   "outputs": [],
   "source": [
    "filename = '/Users/jstark/Desktop/image_examples/triangle.tiff'\n",
    "x = imread('%s' % filename)\n",
    "x = x[:, :, 0]"
   ]
  },
  {
   "cell_type": "code",
   "execution_count": 3,
   "metadata": {},
   "outputs": [
    {
     "data": {
      "text/plain": [
       "(255, 0, (691, 756))"
      ]
     },
     "execution_count": 3,
     "metadata": {},
     "output_type": "execute_result"
    }
   ],
   "source": [
    "np.max(x), np.min(x), x.shape"
   ]
  },
  {
   "cell_type": "code",
   "execution_count": 4,
   "metadata": {},
   "outputs": [],
   "source": [
    "# fig, ax = plt.subplots(figsize=(7, 7))\n",
    "# ax.imshow(x, cmap='gray')"
   ]
  },
  {
   "cell_type": "markdown",
   "metadata": {},
   "source": [
    "# convert binary image: >1 -> -1, 0 -> +1 (indicator function)"
   ]
  },
  {
   "cell_type": "code",
   "execution_count": 5,
   "metadata": {
    "scrolled": true
   },
   "outputs": [
    {
     "name": "stdout",
     "output_type": "stream",
     "text": [
      "format of stack x_bin =  (691, 756) \n",
      "\n",
      "minimum pixel value after conversion =  -1 \n",
      "\n",
      "maximum pixel value after conversion =  1 \n",
      "\n"
     ]
    },
    {
     "data": {
      "image/png": "[encoded data removed]",
      "text/plain": [
       "<Figure size 504x504 with 1 Axes>"
      ]
     },
     "metadata": {},
     "output_type": "display_data"
    }
   ],
   "source": [
    "x_bin = np.where(x > 1, -1, 1)\n",
    "print(\"format of stack x_bin = \", x_bin.shape, \"\\n\"), \n",
    "print(\"minimum pixel value after conversion = \", np.amin(x_bin), \"\\n\"), \n",
    "print(\"maximum pixel value after conversion = \", np.amax(x_bin), \"\\n\")\n",
    "# fig, ax = plt.subplots(figsize=(7, 7))\n",
    "# ax.imshow(x_bin[30], cmap = 'gray')\n",
    "fig, ax = plt.subplots(figsize=(7, 7))\n",
    "ax.imshow(x_bin, cmap='gray')\n",
    "None\n"
   ]
  },
  {
   "cell_type": "code",
   "execution_count": 6,
   "metadata": {},
   "outputs": [
    {
     "data": {
      "text/plain": [
       "(-1, 1)"
      ]
     },
     "execution_count": 6,
     "metadata": {},
     "output_type": "execute_result"
    }
   ],
   "source": [
    "np.min(x_bin), np.max(x_bin)"
   ]
  },
  {
   "cell_type": "code",
   "execution_count": 7,
   "metadata": {},
   "outputs": [
    {
     "data": {
      "image/png": "[encoded data removed]",
      "text/plain": [
       "<Figure size 504x504 with 1 Axes>"
      ]
     },
     "metadata": {},
     "output_type": "display_data"
    }
   ],
   "source": [
    "x_bin = np.flip(x_bin)\n",
    "fig, ax = plt.subplots(figsize=(7, 7))\n",
    "ax.imshow(x_bin, cmap='gray')\n",
    "None"
   ]
  },
  {
   "cell_type": "code",
   "execution_count": 8,
   "metadata": {},
   "outputs": [
    {
     "data": {
      "text/plain": [
       "(691, 756)"
      ]
     },
     "execution_count": 8,
     "metadata": {},
     "output_type": "execute_result"
    }
   ],
   "source": [
    "x_bin.shape"
   ]
  },
  {
   "cell_type": "code",
   "execution_count": 39,
   "metadata": {},
   "outputs": [
    {
     "name": "stdout",
     "output_type": "stream",
     "text": [
      "[691 756]\n"
     ]
    }
   ],
   "source": [
    "# save flat image stack as binary file\n",
    "path = '/Users/jstark/Desktop/image_examples/'\n",
    "filename = 'triangle'\n",
    "ips.save_array_toBin(x_bin, path, filename)\n",
    "\n",
    "# Save image size in #pixels / axis as csv file\n",
    "dim = np.asarray(x_bin.shape)\n",
    "print(dim)\n",
    "np.savetxt('%s/size_%s.csv' % (path, filename), dim, fmt='%i', delimiter=',')"
   ]
  },
  {
   "cell_type": "code",
   "execution_count": null,
   "metadata": {},
   "outputs": [],
   "source": []
  },
  {
   "cell_type": "code",
   "execution_count": null,
   "metadata": {},
   "outputs": [],
   "source": []
  }
 ],
 "metadata": {
  "kernelspec": {
   "display_name": "Python 3",
   "language": "python",
   "name": "python3"
  },
  "language_info": {
   "codemirror_mode": {
    "name": "ipython",
    "version": 3
   },
   "file_extension": ".py",
   "mimetype": "text/x-python",
   "name": "python",
   "nbconvert_exporter": "python",
   "pygments_lexer": "ipython3",
   "version": "3.6.5"
  }
 },
 "nbformat": 4,
 "nbformat_minor": 2
}
